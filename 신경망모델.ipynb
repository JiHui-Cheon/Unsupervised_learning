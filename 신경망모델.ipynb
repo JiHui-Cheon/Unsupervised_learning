{
 "cells": [
  {
   "cell_type": "markdown",
   "id": "aeb360d4",
   "metadata": {},
   "source": [
    "### 피드 포워드 신경망 구현하기"
   ]
  },
  {
   "cell_type": "code",
   "execution_count": 1,
   "id": "a4ccce77",
   "metadata": {},
   "outputs": [],
   "source": [
    "import numpy as np\n",
    "\n",
    "# 데이터 생성하기\n",
    "np.random.seed(seed = 1) # 난수 고정하기\n",
    "N = 200 # 데이터의 수\n",
    "K = 3\n",
    "T = np.zeros((N, 3), dtype = np.uint8)\n",
    "X = np.zeros((N, 2))\n",
    "X_range0 = [-3, 3] # X0의 범위, 표시용\n",
    "X_range1 = [-3, 3] # X1의 범위, 표시용\n",
    "Mu= np.array([[-.5, -.5], [.5, 1.0], [1, -.5]]) # 분포의 중심\n",
    "Sig = np.array([[.7, .7], [.8, .3], [.3, .8]]) # 분포의 분산\n",
    "Pi = np.array([0.4, 0.8, 1]) # 각 분포에 대한  비율\n",
    "for n in range(N):\n",
    "    wk = np.random.rand()\n",
    "    for k in range(K):\n",
    "        if wk < Pi[k]:\n",
    "            T[n, k] = 1\n",
    "            break\n",
    "    for k in range(2):\n",
    "        X[n, k] = np.random.randn() * Sig[T[n, :] == 1, k] + \\\n",
    "        Mu[T[n, :] == 1, k]"
   ]
  },
  {
   "cell_type": "code",
   "execution_count": 13,
   "id": "a4499bbb",
   "metadata": {},
   "outputs": [],
   "source": [
    "# 분류 데이터를 테스트 훈련 데이터로 분할하기\n",
    "TestRatio = 0.5\n",
    "X_n_training = int(N * TestRatio)\n",
    "X_train = X[:X_n_training, :]\n",
    "X_test = X[X_n_training:, :]\n",
    "T_train = T[:X_n_training, :]\n",
    "T_test = T[X_n_training:, :]\n",
    "\n",
    "# 데이터를 'class_data.npz'에 저장하기\n",
    "np.savez('class_data.npz', X_trian=X_train, T_trian=T_train,\n",
    "        X_test=X_test, T_test=T_test,\n",
    "        X_range0=X_range0, X_range1=X_range1)"
   ]
  },
  {
   "cell_type": "code",
   "execution_count": 39,
   "id": "ce96dbce",
   "metadata": {},
   "outputs": [
    {
     "data": {
      "text/plain": [
       "100"
      ]
     },
     "execution_count": 39,
     "metadata": {},
     "output_type": "execute_result"
    }
   ],
   "source": [
    "X_n_training"
   ]
  },
  {
   "cell_type": "code",
   "execution_count": 42,
   "id": "4c7ccec7",
   "metadata": {},
   "outputs": [
    {
     "data": {
      "text/plain": [
       "array([[-1.41738271e-01,  8.65336658e-01],\n",
       "       [-8.69720227e-01, -1.25107804e+00],\n",
       "       [-2.15442802e+00,  2.94741744e-01],\n",
       "       [ 7.55231277e-01,  9.25188887e-01],\n",
       "       [-1.10193462e+00,  7.40825341e-01],\n",
       "       [ 2.42066237e-01,  8.84783694e-01],\n",
       "       [ 1.21899268e+00, -2.01604969e-01],\n",
       "       [ 9.48271538e-01, -1.20228673e+00],\n",
       "       [ 1.57414612e+00, -2.35362296e-01],\n",
       "       [ 1.31113504e-01, -1.48253963e-01],\n",
       "       [-1.09503666e+00,  1.72574003e-01],\n",
       "       [ 4.01687820e-01,  7.19269170e-01],\n",
       "       [ 6.88588371e-01, -1.30758386e+00],\n",
       "       [-9.81020890e-01, -1.09164395e+00],\n",
       "       [ 5.82530397e-01,  8.13499946e-01],\n",
       "       [ 6.61861524e-01,  1.94309124e-02],\n",
       "       [ 6.84278289e-01, -1.02356762e+00],\n",
       "       [ 5.40646204e-01,  8.08901306e-01],\n",
       "       [ 1.04670738e+00,  1.00686579e+00],\n",
       "       [ 7.40136256e-01,  8.94325046e-01],\n",
       "       [ 3.73809851e-01, -1.03037190e+00],\n",
       "       [ 7.28469860e-01,  1.26554235e+00],\n",
       "       [-5.33250162e-01,  7.45526825e-01],\n",
       "       [ 1.14655544e+00, -5.60457370e-01],\n",
       "       [-2.04381437e-01,  1.08343865e+00],\n",
       "       [ 1.65567262e+00, -1.61719707e+00],\n",
       "       [ 7.60045942e-01,  9.36426123e-01],\n",
       "       [ 7.52507958e-01,  3.93339635e-01],\n",
       "       [ 1.21527695e+00, -7.00563928e-01],\n",
       "       [ 3.22137486e-01,  9.39772579e-01],\n",
       "       [ 8.80219548e-01, -3.55146067e-01],\n",
       "       [ 6.58639776e-01,  1.03570259e+00],\n",
       "       [ 9.65540147e-01,  8.76937745e-01],\n",
       "       [ 1.45913430e+00,  1.05554693e+00],\n",
       "       [-6.19319704e-02, -1.62795467e+00],\n",
       "       [ 8.96843897e-01, -4.65122515e-01],\n",
       "       [ 1.20545095e+00, -9.76368264e-01],\n",
       "       [-2.17555851e-01, -8.44950337e-02],\n",
       "       [ 3.09458106e-01,  8.97751515e-01],\n",
       "       [ 2.87025195e-01,  1.00978436e+00],\n",
       "       [-4.51721137e-01, -1.68731026e-01],\n",
       "       [ 9.23124533e-02, -1.10166116e+00],\n",
       "       [-2.00706548e-01, -4.48193280e-01],\n",
       "       [ 9.88391347e-01, -1.79261788e+00],\n",
       "       [ 2.40645061e-01,  1.09322627e+00],\n",
       "       [-5.17231869e-01, -1.04261313e+00],\n",
       "       [-9.52050216e-01,  1.20527485e+00],\n",
       "       [ 4.42605441e-01,  4.88931224e-01],\n",
       "       [ 1.15347774e+00,  1.35525139e+00],\n",
       "       [-6.26644211e-01, -9.22744439e-01],\n",
       "       [ 1.03881077e+00,  7.68311673e-01],\n",
       "       [ 5.49648061e-02, -9.36471511e-01],\n",
       "       [-2.26102142e-01,  1.04834041e+00],\n",
       "       [ 9.44029068e-01, -5.81396698e-01],\n",
       "       [ 6.86265839e-01,  1.04661798e+00],\n",
       "       [ 1.15883960e+00, -3.89839032e-01],\n",
       "       [ 1.24916940e+00, -4.09425568e-01],\n",
       "       [ 2.51906581e-01,  2.69548671e-01],\n",
       "       [ 1.12171722e+00,  1.02710535e+00],\n",
       "       [ 1.13240933e+00, -5.80124187e-01],\n",
       "       [-7.93424646e-01, -4.96527680e-01],\n",
       "       [ 8.44871663e-01, -1.29762146e+00],\n",
       "       [-8.80535743e-01,  2.58532341e-01],\n",
       "       [ 1.29590056e+00, -3.29172879e-01],\n",
       "       [ 9.73253516e-01,  2.20697317e-01],\n",
       "       [-1.75333506e-02,  1.27044607e+00],\n",
       "       [ 3.35150071e-01,  1.01264663e+00],\n",
       "       [ 1.56516569e+00,  9.13807641e-01],\n",
       "       [-3.71827151e-01,  1.46795095e-01],\n",
       "       [-1.47770631e-01,  4.05258118e-01],\n",
       "       [ 7.37320668e-01, -1.05144162e+00],\n",
       "       [ 1.08419952e+00, -5.58490163e-01],\n",
       "       [ 7.22461301e-01,  1.36718976e+00],\n",
       "       [ 1.02723984e+00,  5.11768498e-01],\n",
       "       [ 8.32249003e-01,  1.17501626e+00],\n",
       "       [ 1.79297447e-01,  1.24720169e+00],\n",
       "       [-1.22536421e+00,  7.30399713e-01],\n",
       "       [-8.20577013e-01,  7.32833325e-01],\n",
       "       [ 8.28616762e-01,  9.81857997e-01],\n",
       "       [ 2.38800402e-01,  5.97197263e-01],\n",
       "       [-2.93105695e-01, -3.37947235e-01],\n",
       "       [ 6.28943987e-01,  2.00671142e-01],\n",
       "       [-4.36469000e-01,  3.13541729e-01],\n",
       "       [ 1.48508488e+00, -9.78072944e-02],\n",
       "       [ 8.00615021e-01,  1.44347670e+00],\n",
       "       [ 6.33806656e-02,  9.40348641e-01],\n",
       "       [-1.67760982e-01, -8.39194110e-01],\n",
       "       [ 1.19830609e+00,  9.33726567e-01],\n",
       "       [-1.96806842e+00, -8.14041444e-01],\n",
       "       [-1.67193707e+00,  7.75208771e-02],\n",
       "       [ 9.32461757e-01, -1.96246496e-01],\n",
       "       [-5.01324038e-01, -1.47763430e+00],\n",
       "       [-3.31681058e-02,  7.68449197e-01],\n",
       "       [ 1.54316047e+00, -1.54458154e+00],\n",
       "       [-4.73431450e-01, -1.16690681e+00],\n",
       "       [ 7.93065612e-01,  6.86623185e-01],\n",
       "       [-2.41352797e-01,  1.12055358e+00],\n",
       "       [ 5.84978179e-01,  5.42295905e-01],\n",
       "       [ 1.37859051e+00,  1.03454662e+00],\n",
       "       [ 1.08542443e+00, -2.90026044e-01],\n",
       "       [ 4.25701534e-01,  1.88211111e-01],\n",
       "       [ 1.10704453e+00,  1.26547264e+00],\n",
       "       [ 1.51788943e-02, -1.44595338e+00],\n",
       "       [-6.77925907e-01,  4.79890760e-01],\n",
       "       [ 8.49290217e-01,  1.01146649e+00],\n",
       "       [ 5.13222054e-01,  1.05315632e+00],\n",
       "       [ 2.09667509e-01,  7.24919651e-01],\n",
       "       [-1.55364411e-01, -9.76474699e-01],\n",
       "       [ 1.67811468e-01, -7.45963769e-01],\n",
       "       [-2.64340210e-01,  1.17577313e+00],\n",
       "       [ 6.32290522e-01,  1.00826331e+00],\n",
       "       [-1.08112033e+00, -1.11640432e+00],\n",
       "       [-4.28247198e-02,  9.80233237e-01],\n",
       "       [ 9.97442803e-01,  8.20058641e-01],\n",
       "       [-4.47321930e-01, -7.66340052e-01],\n",
       "       [ 1.41663382e+00, -1.02907539e+00],\n",
       "       [ 9.52603460e-01,  1.01512860e+00],\n",
       "       [ 1.19637405e+00, -5.40950758e-01],\n",
       "       [-7.53535702e-01, -6.41103669e-01],\n",
       "       [ 7.26140570e-01,  7.52170770e-01],\n",
       "       [ 1.30980622e+00,  1.10742907e-01],\n",
       "       [-6.66559355e-01,  3.08701520e-01],\n",
       "       [ 7.01427710e-01, -2.17549531e-01],\n",
       "       [-1.19791386e+00, -5.74755791e-01],\n",
       "       [-9.11967532e-01,  4.98527203e-01],\n",
       "       [-1.12976098e+00,  4.17223246e-01],\n",
       "       [ 1.62347799e+00,  9.63873415e-01],\n",
       "       [ 1.46216576e-01,  1.09705821e+00],\n",
       "       [ 5.16809024e-01,  9.20098907e-01],\n",
       "       [-6.17739188e-01, -6.21926241e-01],\n",
       "       [ 4.46238696e-02, -3.35602190e-01],\n",
       "       [ 1.30303815e+00,  2.36014347e-01],\n",
       "       [ 5.60920885e-01, -9.63981794e-01],\n",
       "       [-3.90615305e-01, -6.33154718e-01],\n",
       "       [ 4.17188075e-02, -9.00152983e-01],\n",
       "       [-1.86032638e+00, -2.53253945e-01],\n",
       "       [ 7.05915519e-01, -2.07586691e+00],\n",
       "       [ 9.67717288e-01,  1.09728227e+00],\n",
       "       [-1.92151525e+00, -3.19860064e-01],\n",
       "       [ 1.55041529e+00, -4.84937156e-02],\n",
       "       [-6.49665818e-01,  1.26353675e+00],\n",
       "       [-1.72914795e+00,  3.52718240e-04],\n",
       "       [ 3.86104641e-01,  1.24188996e+00],\n",
       "       [-6.74101263e-02, -6.28923428e-01],\n",
       "       [ 9.45782746e-01, -5.95365579e-01],\n",
       "       [-1.15374026e+00, -8.73114228e-01],\n",
       "       [ 1.50238143e+00,  8.97322239e-01],\n",
       "       [-1.21532016e+00,  5.61697677e-02],\n",
       "       [ 1.10933655e-01,  9.50268802e-01],\n",
       "       [-5.24757547e-01,  9.77423538e-01],\n",
       "       [ 7.16800091e-01,  6.26034866e-01],\n",
       "       [ 1.11016954e+00,  4.86319354e-01],\n",
       "       [ 1.06084182e+00,  1.81444083e-01],\n",
       "       [-1.99972671e+00, -1.08111820e+00],\n",
       "       [ 1.19283240e+00, -7.58025814e-02],\n",
       "       [ 2.74610985e-01,  1.61690666e+00],\n",
       "       [-5.83376533e-01, -2.04585471e+00],\n",
       "       [-1.43080240e+00,  4.66730087e-01],\n",
       "       [-9.62336217e-01, -1.30193605e+00],\n",
       "       [ 3.16987337e-01,  1.48400841e+00],\n",
       "       [-4.66596149e-01, -1.88591298e+00],\n",
       "       [ 1.16674321e-01,  1.10505015e+00],\n",
       "       [ 4.64257019e-01, -4.40642151e-01],\n",
       "       [ 3.45919430e-01,  2.80991262e-01],\n",
       "       [ 6.89381232e-01,  1.20405393e+00],\n",
       "       [ 3.02830263e-01, -5.34791805e-01],\n",
       "       [ 1.40231010e+00,  4.21232548e-01],\n",
       "       [ 8.61027213e-01,  4.94782004e-01],\n",
       "       [ 1.25477152e+00,  8.82616956e-01],\n",
       "       [-1.09601896e+00,  2.00616997e-01],\n",
       "       [ 1.55487302e+00,  9.07099039e-01],\n",
       "       [-2.79227266e-02, -1.00567433e+00],\n",
       "       [ 1.34105497e-01,  1.04982501e-01],\n",
       "       [-9.37739401e-01, -9.15690147e-01],\n",
       "       [-7.01452144e-01, -5.52309744e-01],\n",
       "       [ 2.31496087e-01, -7.40397111e-02],\n",
       "       [-9.95902419e-01, -9.55065496e-01],\n",
       "       [ 1.13504665e+00,  9.12268080e-01],\n",
       "       [-6.64265296e-01,  3.50231291e-01],\n",
       "       [ 9.40300545e-01,  9.93177100e-01],\n",
       "       [-7.21713013e-01, -1.45813223e+00],\n",
       "       [ 8.60898351e-01,  7.91523730e-01],\n",
       "       [ 3.93051684e-01,  5.32143356e-03],\n",
       "       [ 5.22624666e-01, -8.52690390e-02],\n",
       "       [-7.86445124e-01,  1.22910414e+00],\n",
       "       [ 4.15724230e-01,  1.18905870e+00],\n",
       "       [ 1.61346287e-01,  6.27439596e-01],\n",
       "       [-1.29784178e-01, -2.06596056e+00],\n",
       "       [ 2.54367520e-01,  8.84575345e-01],\n",
       "       [-1.70357613e+00, -4.60015303e-01],\n",
       "       [-3.60973433e-01, -6.89493943e-01],\n",
       "       [-8.94652114e-01, -4.37219515e-01],\n",
       "       [ 5.98500039e-01,  5.89120064e-01],\n",
       "       [ 6.35895404e-01,  6.50797609e-01],\n",
       "       [ 6.28667988e-02,  1.54476926e-01],\n",
       "       [-3.73272879e-01,  2.75022816e-01],\n",
       "       [ 1.14408359e+00,  1.28809193e+00],\n",
       "       [ 1.03851310e+00,  9.08332147e-01],\n",
       "       [ 4.50735335e-02,  1.38248137e+00],\n",
       "       [ 1.00926673e+00,  1.42277602e+00]])"
      ]
     },
     "execution_count": 42,
     "metadata": {},
     "output_type": "execute_result"
    }
   ],
   "source": [
    "X"
   ]
  },
  {
   "cell_type": "code",
   "execution_count": 41,
   "id": "d37d680b",
   "metadata": {},
   "outputs": [
    {
     "data": {
      "text/plain": [
       "array([[-0.14173827,  0.86533666],\n",
       "       [-0.86972023, -1.25107804],\n",
       "       [-2.15442802,  0.29474174],\n",
       "       [ 0.75523128,  0.92518889],\n",
       "       [-1.10193462,  0.74082534],\n",
       "       [ 0.24206624,  0.88478369],\n",
       "       [ 1.21899268, -0.20160497],\n",
       "       [ 0.94827154, -1.20228673],\n",
       "       [ 1.57414612, -0.2353623 ],\n",
       "       [ 0.1311135 , -0.14825396],\n",
       "       [-1.09503666,  0.172574  ],\n",
       "       [ 0.40168782,  0.71926917],\n",
       "       [ 0.68858837, -1.30758386],\n",
       "       [-0.98102089, -1.09164395],\n",
       "       [ 0.5825304 ,  0.81349995],\n",
       "       [ 0.66186152,  0.01943091],\n",
       "       [ 0.68427829, -1.02356762],\n",
       "       [ 0.5406462 ,  0.80890131],\n",
       "       [ 1.04670738,  1.00686579],\n",
       "       [ 0.74013626,  0.89432505],\n",
       "       [ 0.37380985, -1.0303719 ],\n",
       "       [ 0.72846986,  1.26554235],\n",
       "       [-0.53325016,  0.74552683],\n",
       "       [ 1.14655544, -0.56045737],\n",
       "       [-0.20438144,  1.08343865],\n",
       "       [ 1.65567262, -1.61719707],\n",
       "       [ 0.76004594,  0.93642612],\n",
       "       [ 0.75250796,  0.39333964],\n",
       "       [ 1.21527695, -0.70056393],\n",
       "       [ 0.32213749,  0.93977258],\n",
       "       [ 0.88021955, -0.35514607],\n",
       "       [ 0.65863978,  1.03570259],\n",
       "       [ 0.96554015,  0.87693774],\n",
       "       [ 1.4591343 ,  1.05554693],\n",
       "       [-0.06193197, -1.62795467],\n",
       "       [ 0.8968439 , -0.46512251],\n",
       "       [ 1.20545095, -0.97636826],\n",
       "       [-0.21755585, -0.08449503],\n",
       "       [ 0.30945811,  0.89775152],\n",
       "       [ 0.2870252 ,  1.00978436],\n",
       "       [-0.45172114, -0.16873103],\n",
       "       [ 0.09231245, -1.10166116],\n",
       "       [-0.20070655, -0.44819328],\n",
       "       [ 0.98839135, -1.79261788],\n",
       "       [ 0.24064506,  1.09322627],\n",
       "       [-0.51723187, -1.04261313],\n",
       "       [-0.95205022,  1.20527485],\n",
       "       [ 0.44260544,  0.48893122],\n",
       "       [ 1.15347774,  1.35525139],\n",
       "       [-0.62664421, -0.92274444],\n",
       "       [ 1.03881077,  0.76831167],\n",
       "       [ 0.05496481, -0.93647151],\n",
       "       [-0.22610214,  1.04834041],\n",
       "       [ 0.94402907, -0.5813967 ],\n",
       "       [ 0.68626584,  1.04661798],\n",
       "       [ 1.1588396 , -0.38983903],\n",
       "       [ 1.2491694 , -0.40942557],\n",
       "       [ 0.25190658,  0.26954867],\n",
       "       [ 1.12171722,  1.02710535],\n",
       "       [ 1.13240933, -0.58012419],\n",
       "       [-0.79342465, -0.49652768],\n",
       "       [ 0.84487166, -1.29762146],\n",
       "       [-0.88053574,  0.25853234],\n",
       "       [ 1.29590056, -0.32917288],\n",
       "       [ 0.97325352,  0.22069732],\n",
       "       [-0.01753335,  1.27044607],\n",
       "       [ 0.33515007,  1.01264663],\n",
       "       [ 1.56516569,  0.91380764],\n",
       "       [-0.37182715,  0.14679509],\n",
       "       [-0.14777063,  0.40525812],\n",
       "       [ 0.73732067, -1.05144162],\n",
       "       [ 1.08419952, -0.55849016],\n",
       "       [ 0.7224613 ,  1.36718976],\n",
       "       [ 1.02723984,  0.5117685 ],\n",
       "       [ 0.832249  ,  1.17501626],\n",
       "       [ 0.17929745,  1.24720169],\n",
       "       [-1.22536421,  0.73039971],\n",
       "       [-0.82057701,  0.73283332],\n",
       "       [ 0.82861676,  0.981858  ],\n",
       "       [ 0.2388004 ,  0.59719726],\n",
       "       [-0.2931057 , -0.33794723],\n",
       "       [ 0.62894399,  0.20067114],\n",
       "       [-0.436469  ,  0.31354173],\n",
       "       [ 1.48508488, -0.09780729],\n",
       "       [ 0.80061502,  1.4434767 ],\n",
       "       [ 0.06338067,  0.94034864],\n",
       "       [-0.16776098, -0.83919411],\n",
       "       [ 1.19830609,  0.93372657],\n",
       "       [-1.96806842, -0.81404144],\n",
       "       [-1.67193707,  0.07752088],\n",
       "       [ 0.93246176, -0.1962465 ],\n",
       "       [-0.50132404, -1.4776343 ],\n",
       "       [-0.03316811,  0.7684492 ],\n",
       "       [ 1.54316047, -1.54458154],\n",
       "       [-0.47343145, -1.16690681],\n",
       "       [ 0.79306561,  0.68662319],\n",
       "       [-0.2413528 ,  1.12055358],\n",
       "       [ 0.58497818,  0.54229591],\n",
       "       [ 1.37859051,  1.03454662],\n",
       "       [ 1.08542443, -0.29002604]])"
      ]
     },
     "execution_count": 41,
     "metadata": {},
     "output_type": "execute_result"
    }
   ],
   "source": [
    "X_train"
   ]
  },
  {
   "cell_type": "markdown",
   "id": "5f573d1f",
   "metadata": {},
   "source": [
    "### 3클래스 분류 문제의 인공 데이터"
   ]
  },
  {
   "cell_type": "code",
   "execution_count": 14,
   "id": "962f9c24",
   "metadata": {},
   "outputs": [
    {
     "data": {
      "image/png": "[encoded data removed]",
      "text/plain": [
       "<Figure size 576x266.4 with 2 Axes>"
      ]
     },
     "metadata": {
      "needs_background": "light"
     },
     "output_type": "display_data"
    }
   ],
   "source": [
    "import matplotlib.pyplot as plt\n",
    "%matplotlib inline\n",
    "\n",
    "# 데이터 그리기\n",
    "def Show_data(x, t):\n",
    "    wk, n = t.shape\n",
    "    c = [[0, 0, 0], [.5, .5, .5], [1, 1, 1]]\n",
    "    for i in range(n):\n",
    "        plt.plot(x[t[:, i] == 1, 0], x[t[:, i] == 1, 1],\n",
    "                linestyle = 'none',\n",
    "                marker = 'o', markeredgecolor = 'black',\n",
    "                color = c[i], alpha = 0.8)\n",
    "    plt.grid(True)\n",
    "    \n",
    "# 메인\n",
    "plt.figure(1, figsize=(8, 3.7))\n",
    "plt.subplot(1, 2, 1)\n",
    "Show_data(X_train, T_train)\n",
    "plt.xlim(X_range0)\n",
    "plt.ylim(X_range1)\n",
    "plt.title('Training Data')\n",
    "plt.subplot(1, 2, 2)\n",
    "Show_data(X_test, T_test)\n",
    "plt.xlim(X_range0)\n",
    "plt.ylim(X_range1)\n",
    "plt.title('Test Data')\n",
    "plt.show()"
   ]
  },
  {
   "cell_type": "code",
   "execution_count": 26,
   "id": "0c5c79bc",
   "metadata": {},
   "outputs": [
    {
     "data": {
      "text/plain": [
       "(array([[0.33333333, 0.33333333, 0.33333333],\n",
       "        [0.33333333, 0.33333333, 0.33333333]]),\n",
       " array([[2.6971835 , 2.6971835 , 2.6971835 ],\n",
       "        [1.49172649, 1.49172649, 1.49172649]]),\n",
       " array([[0.84859175, 0.84859175, 1.        ],\n",
       "        [0.24586324, 0.24586324, 1.        ]]),\n",
       " array([[ 1.72359839,  1.72359839,  0.        ],\n",
       "        [-1.12079826, -1.12079826,  0.        ]]))"
      ]
     },
     "execution_count": 26,
     "metadata": {},
     "output_type": "execute_result"
    }
   ],
   "source": [
    "# 시그모이드 함수\n",
    "def Sigmoid(x):\n",
    "    y = 1 / (1 + np.exp(-x))\n",
    "    return y\n",
    "\n",
    "# 네트워크\n",
    "def Fnn(wv, M, k, x):\n",
    "    N, D = x.shape # 입력차원\n",
    "    w = wv[:M * (D + 1)] # 중간층 뉴런의 가중치\n",
    "    w = w.reshape(M, (D + 1))\n",
    "    v = wv[M * (D + 1):] # 출력층 뉴런의 가중치\n",
    "    v = v.reshape((K, M + 1))\n",
    "    b = np.zeros((N, M + 1)) # 중간층 뉴런의 입력 총합\n",
    "    z = np.zeros((N, M + 1)) # 중간층 뉴런의 출력\n",
    "    a = np.zeros((N, K)) # 출력층 뉴런의 입력 총합\n",
    "    y = np.zeros((N, K)) # 출력층 뉴런의 출력              \n",
    "    for n in range(N):\n",
    "        # 중간층 계산하기\n",
    "        for m in range(M):\n",
    "            b[n, m] = np.dot(w[m, :], np.r_[x[n, :], 1]) # (A)\n",
    "            z[n, m] = Sigmoid(b[n, m])\n",
    "        # 출력층의 계산\n",
    "        z[n, M] = 1 # 더미 뉴런\n",
    "        wkz = 0\n",
    "        for k in range(K):\n",
    "            a[n, k] = np.dot(v[k, :], z[n, :])\n",
    "            wkz = wkz + np.exp(a[n, k])\n",
    "        for k in range(K):\n",
    "            y[n, k] = np.exp(a[n, k]) / wkz\n",
    "    return y, a, z, b\n",
    "                  \n",
    "# test\n",
    "WV = np.ones(15)\n",
    "M = 2\n",
    "K = 3\n",
    "FNN(WV, M, K, X_train[:2, :])"
   ]
  },
  {
   "cell_type": "code",
   "execution_count": 19,
   "id": "3ca08a77",
   "metadata": {},
   "outputs": [
    {
     "data": {
      "text/plain": [
       "(array([[0.33333333, 0.33333333, 0.33333333],\n",
       "        [0.33333333, 0.33333333, 0.33333333]]),\n",
       " array([[2.6971835 , 2.6971835 , 2.6971835 ],\n",
       "        [1.49172649, 1.49172649, 1.49172649]]),\n",
       " array([[0.84859175, 0.84859175, 1.        ],\n",
       "        [0.24586324, 0.24586324, 1.        ]]),\n",
       " array([[ 1.72359839,  1.72359839,  0.        ],\n",
       "        [-1.12079826, -1.12079826,  0.        ]]))"
      ]
     },
     "execution_count": 19,
     "metadata": {},
     "output_type": "execute_result"
    }
   ],
   "source": [
    "# 시그모이드 함수 ------------------------\n",
    "def Sigmoid(x):\n",
    "    y = 1/ (1 + np.exp(-x))\n",
    "    return y\n",
    "# 네트위크 ------------------------\n",
    "def FNN(wv, M, K, x):\n",
    "    N, D = x.shape # 입력 차원\n",
    "    w = wv[:M * (D+1)] # 중간층 뉴런의 가중치\n",
    "    w = w.reshape(M, (D+1))\n",
    "    v = wv[M * (D+1):] # 출력층 뉴런의 가중치\n",
    "    v = v.reshape((K, M + 1))\n",
    "    b = np.zeros((N, M+1))\n",
    "    z = np.zeros((N, M+1))\n",
    "    a = np.zeros((N, K))\n",
    "    y = np.zeros((N, K))\n",
    "    for n in range(N):\n",
    "        # 중간층의 계산\n",
    "        for m in range(M):\n",
    "            b[n,m] = np.dot(w[m,:], np.r_[x[n,:], 1]) # (A)\n",
    "            z[n,m] = Sigmoid(b[n,m])\n",
    "        # 출력층의 계산\n",
    "        z[n,M] = 1 # 더미 뉴런\n",
    "        wkz = 0\n",
    "        for k in range(K):\n",
    "            a[n,k] = np.dot(v[k,:], z[n,:])\n",
    "            wkz = wkz + np.exp(a[n,k])\n",
    "        for k in range(K):\n",
    "            y[n,k] = np.exp(a[n,k]) / wkz\n",
    "    return y, a, z, b\n",
    "# test -------\n",
    "WV = np.ones(15)\n",
    "M = 2\n",
    "K = 3\n",
    "FNN(WV, M, K, X_train[:2, :])"
   ]
  },
  {
   "cell_type": "markdown",
   "id": "d0306cae",
   "metadata": {},
   "source": [
    "### 수치 미분법\n",
    "- 평균 교차 엔트로피 오차를 다음의 CE_FNN 함수로 구현하기"
   ]
  },
  {
   "cell_type": "code",
   "execution_count": 28,
   "id": "5097c1e5",
   "metadata": {},
   "outputs": [
    {
     "data": {
      "text/plain": [
       "1.0986122886681098"
      ]
     },
     "execution_count": 28,
     "metadata": {},
     "output_type": "execute_result"
    }
   ],
   "source": [
    "# 수치 미분하기\n",
    "\n",
    "def CE_FNN(wv, M, K, x, t):\n",
    "    N, D = x.shape\n",
    "    y, a, z, b = FNN(wv, M, K, x)\n",
    "    ce = -np.dot(np.log(y.reshape(-1)), t.reshape(-1)) / N\n",
    "    return ce\n",
    "# test -------\n",
    "WV = np.ones(15)\n",
    "M = 2\n",
    "K = 3\n",
    "CE_FNN(WV, M, K, X_train[:2, :], T_train[:2, :])"
   ]
  },
  {
   "cell_type": "code",
   "execution_count": 29,
   "id": "e9812faf",
   "metadata": {
    "scrolled": true
   },
   "outputs": [
    {
     "name": "stdout",
     "output_type": "stream",
     "text": [
      "[ 0.0884813   0.19157999 -0.05139799  0.01281536 -0.14468029 -0.14242768\n",
      " -0.02992012  0.01351315 -0.11115648 -0.10104422 -0.09427964 -0.46855603\n",
      "  0.13096434  0.08076649  0.57971252]\n"
     ]
    },
    {
     "data": {
      "image/png": "[encoded data removed]",
      "text/plain": [
       "<Figure size 360x216 with 1 Axes>"
      ]
     },
     "metadata": {
      "needs_background": "light"
     },
     "output_type": "display_data"
    }
   ],
   "source": [
    "# - 수치 미분 -----------------\n",
    "def dCE_FNN_num(wv, M, K, x, t):\n",
    "    epsilon = .001\n",
    "    dwv = np.zeros_like(wv)\n",
    "    for iwv in range(len(wv)):\n",
    "        wv_modified = wv.copy()\n",
    "        wv_modified[iwv] = wv[iwv] - epsilon\n",
    "        mse1 = CE_FNN(wv_modified, M, K, x, t)\n",
    "        wv_modified[iwv] = wv[iwv] + epsilon\n",
    "        mse2 = CE_FNN(wv_modified, M, K, x, t)\n",
    "        dwv[iwv] = (mse2 - mse1) / (2 * epsilon)\n",
    "    return dwv\n",
    "# -- dvw의 표시 ---------------\n",
    "def Show_WV(wv, M):\n",
    "    N = wv.shape[0]\n",
    "    plt.bar(range(1, M*3+1), wv[:M*3], align = \"center\", color = 'black')\n",
    "    plt.bar(range(M*3+1, N+1), wv[M*3:], align = \"center\", color = 'cornflowerblue')\n",
    "    plt.xticks(range(1, N+1))\n",
    "    plt.xlim(0, N+1)\n",
    "#-test-----------\n",
    "M = 2\n",
    "K = 3\n",
    "nWV = M*3 + K * (M+1)\n",
    "np.random.seed(1)\n",
    "WV = np.random.normal(0,1,nWV)\n",
    "dWV = dCE_FNN_num(WV, M, K, X_train[:2, :], T_train[:2, :])\n",
    "print(dWV)\n",
    "plt.figure(1, figsize=(5,3))\n",
    "Show_WV(dWV, M)\n",
    "plt.show()"
   ]
  },
  {
   "cell_type": "code",
   "execution_count": 43,
   "id": "6388f02c",
   "metadata": {},
   "outputs": [
    {
     "name": "stdout",
     "output_type": "stream",
     "text": [
      "Calculation time:136.490sec\n"
     ]
    }
   ],
   "source": [
    "import time\n",
    "\n",
    "# 수치 미분을 사용한 경사 하강법\n",
    "def Fit_FNN_num(wv_init, M, K, x_train, t_train, x_test, t_test, n, alpha):\n",
    "    wvt = wv_init\n",
    "    err_train = np.zeros(n)\n",
    "    err_test = np.zeros(n)\n",
    "    wv_hist = np.zeros((n, len(wv_init)))\n",
    "    epsilon = 0.001\n",
    "    for i in range(n): # (A)\n",
    "        wvt = wvt - alpha *dCE_FNN_num(wvt,M, K, x_train, t_train)\n",
    "        err_train[i] = CE_FNN(wvt, M, K, x_train, t_train)\n",
    "        err_test[i] = CE_FNN(wvt, M, K, x_test, t_test)\n",
    "        wv_hist[i, :] = wvt\n",
    "    return wvt, wv_hist, err_train, err_test\n",
    "\n",
    "# 메인\n",
    "        \n",
    "startTime = time.time()\n",
    "M = 2\n",
    "K = 3\n",
    "np.random.seed(1)\n",
    "WV_init = np.random.normal(0, 0.01, M *3 +K *(M +1))\n",
    "N_step = 1000 # (B) 학습 단계\n",
    "alpha = 0.5\n",
    "WV, WV_hist, Err_train, Err_test = Fit_FNN_num(\n",
    "    WV_init, M, K, X_train, T_train, X_test, T_test, N_step, alpha)\n",
    "calculation_time = time.time() - startTime\n",
    "print(\"Calculation time:{0:.3f}sec\".format(calculation_time))"
   ]
  },
  {
   "cell_type": "code",
   "execution_count": 44,
   "id": "975aef18",
   "metadata": {},
   "outputs": [
    {
     "data": {
      "image/png": "[encoded data removed]",
      "text/plain": [
       "<Figure size 216x216 with 1 Axes>"
      ]
     },
     "metadata": {
      "needs_background": "light"
     },
     "output_type": "display_data"
    }
   ],
   "source": [
    "# 학습 오차 표시\n",
    "plt.figure(1, figsize=(3,3))\n",
    "plt.plot(Err_train, 'black', label = 'training')\n",
    "plt.plot(Err_test, 'cornflowerblue', label = 'test')\n",
    "plt.legend()\n",
    "plt.show()"
   ]
  },
  {
   "cell_type": "code",
   "execution_count": 45,
   "id": "923e2dd8",
   "metadata": {},
   "outputs": [
    {
     "data": {
      "image/png": "[encoded data removed]",
      "text/plain": [
       "<Figure size 216x216 with 1 Axes>"
      ]
     },
     "metadata": {
      "needs_background": "light"
     },
     "output_type": "display_data"
    }
   ],
   "source": [
    "# 가중치의 시간 변화의 표시\n",
    "plt.figure(1, figsize= (3, 3))\n",
    "plt.plot(WV_hist[:, :M*3], 'black')\n",
    "plt.plot(WV_hist[:, M*3:], 'cornflowerblue')\n",
    "plt.show()"
   ]
  },
  {
   "cell_type": "code",
   "execution_count": 49,
   "id": "e6878b85",
   "metadata": {},
   "outputs": [
    {
     "data": {
      "image/png": "[encoded data removed]",
      "text/plain": [
       "<Figure size 216x216 with 1 Axes>"
      ]
     },
     "metadata": {
      "needs_background": "light"
     },
     "output_type": "display_data"
    }
   ],
   "source": [
    "# 경계선 표시 함수\n",
    "def show_FNN(wv, M, K):\n",
    "    xn = 60 # 등고선 표시 해상도\n",
    "    x0 = np.linspace(X_range0[0], X_range0[1], xn)\n",
    "    x1 = np.linspace(X_range1[0], X_range1[1], xn)\n",
    "    xx0, xx1 = np.meshgrid(x0, x1)\n",
    "    x = np.c_[np.reshape(xx0, xn *xn, 'F'), np.reshape(xx1, xn * xn, 'F')]\n",
    "    y, a, z, b = FNN(wv,M, K, x)\n",
    "    plt.figure(1, figsize =(4,4))\n",
    "    for ic in range(K):\n",
    "        f = y[:, ic]\n",
    "        f = f.reshape(xn, xn)\n",
    "        f = f.T\n",
    "        cont = plt.contour(xx0, xx1, f, levels = [0.8, 0.9], \n",
    "                           colors=['cornflowerblue', 'black'])\n",
    "        cont.clabel(fmt='%1.1f', fontsize=9)\n",
    "    plt.xlim(X_range0)\n",
    "    plt.xlim(X_range1)\n",
    "        \n",
    "# 경계선 표시\n",
    "plt.figure(1, figsize=(3,3))\n",
    "Show_data(X_test, T_test)\n",
    "show_FNN(WV, M ,K)\n",
    "plt.show()"
   ]
  },
  {
   "cell_type": "code",
   "execution_count": null,
   "id": "7ec64c6f",
   "metadata": {},
   "outputs": [],
   "source": []
  }
 ],
 "metadata": {
  "kernelspec": {
   "display_name": "Python 3",
   "language": "python",
   "name": "python3"
  },
  "language_info": {
   "codemirror_mode": {
    "name": "ipython",
    "version": 3
   },
   "file_extension": ".py",
   "mimetype": "text/x-python",
   "name": "python",
   "nbconvert_exporter": "python",
   "pygments_lexer": "ipython3",
   "version": "3.8.9"
  }
 },
 "nbformat": 4,
 "nbformat_minor": 5
}
